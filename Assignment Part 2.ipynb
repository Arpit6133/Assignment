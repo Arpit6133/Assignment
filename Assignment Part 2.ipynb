{
 "cells": [
  {
   "cell_type": "code",
   "execution_count": 2,
   "id": "038c7ffb",
   "metadata": {},
   "outputs": [],
   "source": [
    "file = open(\"D:/Assignment/input_2.txt\", \"r\")\n",
    "\n",
    "d = dict()\n",
    "\n",
    "for line in file:\n",
    "    line = line.strip()\n",
    "\n",
    "    line = line.lower()\n",
    "\n",
    "    words = line.split(\" \")\n",
    "\n",
    "    for word in words:\n",
    "        if word in d:\n",
    "            d[word] = d[word] + 1\n",
    "        else:\n",
    "            d[word] = 1\n",
    "\n",
    "for key in list(d.keys()):\n",
    "    wrd = str(key)\n",
    "    wrd_count = str(d[key])\n",
    "\n",
    "    with open(\"D:/Assignment/output_2.txt\", 'a') as output:\n",
    "        output.write(wrd+\" -> \"+wrd_count + \" \")\n"
   ]
  },
  {
   "cell_type": "code",
   "execution_count": null,
   "id": "d270fced",
   "metadata": {},
   "outputs": [],
   "source": []
  }
 ],
 "metadata": {
  "kernelspec": {
   "display_name": "Python 3 (ipykernel)",
   "language": "python",
   "name": "python3"
  },
  "language_info": {
   "codemirror_mode": {
    "name": "ipython",
    "version": 3
   },
   "file_extension": ".py",
   "mimetype": "text/x-python",
   "name": "python",
   "nbconvert_exporter": "python",
   "pygments_lexer": "ipython3",
   "version": "3.8.13"
  }
 },
 "nbformat": 4,
 "nbformat_minor": 5
}
