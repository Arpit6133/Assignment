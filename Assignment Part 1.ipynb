{
 "cells": [
  {
   "cell_type": "code",
   "execution_count": null,
   "id": "7df7666a",
   "metadata": {},
   "outputs": [],
   "source": [
    "with open(\"D:/Assignment/input_1.txt\", 'r') as file :\n",
    "    \n",
    "    capital_letter = file.read().upper()\n",
    "with open(\"D:/Assignment/output_1.txt\", 'a') as output:\n",
    "    \n",
    "    output.write(capital_letter)"
   ]
  }
 ],
 "metadata": {
  "kernelspec": {
   "display_name": "Python 3 (ipykernel)",
   "language": "python",
   "name": "python3"
  },
  "language_info": {
   "codemirror_mode": {
    "name": "ipython",
    "version": 3
   },
   "file_extension": ".py",
   "mimetype": "text/x-python",
   "name": "python",
   "nbconvert_exporter": "python",
   "pygments_lexer": "ipython3",
   "version": "3.8.13"
  }
 },
 "nbformat": 4,
 "nbformat_minor": 5
}
